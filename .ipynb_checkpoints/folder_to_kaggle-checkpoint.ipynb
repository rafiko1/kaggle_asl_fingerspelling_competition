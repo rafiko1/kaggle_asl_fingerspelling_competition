{
 "cells": [
  {
   "cell_type": "code",
   "execution_count": 9,
   "id": "52fd6d3a-d79e-4081-a89d-09cc6b782910",
   "metadata": {
    "tags": []
   },
   "outputs": [],
   "source": [
    "import pandas as pd\n",
    "# from tqdm.auto import tqdm\n",
    "from tqdm import tqdm\n",
    "import numpy as np\n",
    "import os\n",
    "import json"
   ]
  },
  {
   "cell_type": "code",
   "execution_count": 25,
   "id": "a7311608-ad05-454e-af40-4a3ba4ed8715",
   "metadata": {
    "tags": []
   },
   "outputs": [
    {
     "name": "stdout",
     "output_type": "stream",
     "text": [
      "kaggle_asl_fingerspelling_competition\n"
     ]
    }
   ],
   "source": [
    "DATASET_PATH = 'kaggle_asl_fingerspelling_competition'\n",
    "print(DATASET_PATH)"
   ]
  },
  {
   "cell_type": "code",
   "execution_count": 26,
   "id": "b9d21228-41f9-4c6e-96e3-3636ec66c302",
   "metadata": {
    "tags": []
   },
   "outputs": [],
   "source": [
    "# DATASET_NAME = 'aslfr-code'"
   ]
  },
  {
   "cell_type": "code",
   "execution_count": 30,
   "id": "c7f1b736-5475-4302-bc43-8150aa43588a",
   "metadata": {
    "tags": []
   },
   "outputs": [],
   "source": [
    "DATASET_NAME = 'ASLFRcode'"
   ]
  },
  {
   "cell_type": "code",
   "execution_count": 31,
   "id": "a3a0be50-389b-483e-a026-0c6d68490720",
   "metadata": {
    "tags": []
   },
   "outputs": [
    {
     "name": "stdout",
     "output_type": "stream",
     "text": [
      "Data package template written to: kaggle_asl_fingerspelling_competition/dataset-metadata.json\n"
     ]
    }
   ],
   "source": [
    "!kaggle datasets init -p {DATASET_PATH}"
   ]
  },
  {
   "cell_type": "code",
   "execution_count": 32,
   "id": "081eb856-0fe8-491b-a2b3-128ef7cfa49b",
   "metadata": {
    "tags": []
   },
   "outputs": [
    {
     "name": "stdout",
     "output_type": "stream",
     "text": [
      "{'title': 'ASLFRcode', 'id': 'rafiko1/ASLFRcode', 'licenses': [{'name': 'CC0-1.0'}]}\n"
     ]
    }
   ],
   "source": [
    "with open(f'{DATASET_PATH}/dataset-metadata.json') as f:\n",
    "    dataset_meta = json.load(f)\n",
    "\n",
    "dataset_meta['id'] = f'rafiko1/{DATASET_NAME}'\n",
    "dataset_meta['title'] = DATASET_NAME\n",
    "print(dataset_meta)\n",
    "\n",
    "with open(f'{DATASET_PATH}/dataset-metadata.json', \"w\") as outfile:\n",
    "    json.dump(dataset_meta, outfile)"
   ]
  },
  {
   "cell_type": "code",
   "execution_count": 33,
   "id": "aaeb1bad-bf8b-412c-83fe-9bb5b699135e",
   "metadata": {
    "tags": []
   },
   "outputs": [
    {
     "name": "stdout",
     "output_type": "stream",
     "text": [
      "Starting upload for file configs.zip\n",
      "100%|████████████████████████████████████████| 1.34k/1.34k [00:04<00:00, 312B/s]\n",
      "Upload successful: configs.zip (1KB)\n",
      "Starting upload for file README.txt\n",
      "100%|█████████████████████████████████████████| 14.0/14.0 [00:00<00:00, 15.1B/s]\n",
      "Upload successful: README.txt (14B)\n",
      "Starting upload for file datasets.zip\n",
      "100%|██████████████████████████████████████| 2.04M/2.04M [00:01<00:00, 1.33MB/s]\n",
      "Upload successful: datasets.zip (2MB)\n",
      "Starting upload for file .ipynb_checkpoints.zip\n",
      "100%|█████████████████████████████████████████| 22.0/22.0 [00:01<00:00, 15.0B/s]\n",
      "Upload successful: .ipynb_checkpoints.zip (22B)\n",
      "Starting upload for file results.zip\n",
      "100%|██████████████████████████████████████| 30.2M/30.2M [00:01<00:00, 16.3MB/s]\n",
      "Upload successful: results.zip (30MB)\n",
      "Starting upload for file utils.zip\n",
      "100%|██████████████████████████████████████| 37.8k/37.8k [00:01<00:00, 20.1kB/s]\n",
      "Upload successful: utils.zip (38KB)\n",
      "Starting upload for file models.zip\n",
      "100%|██████████████████████████████████████| 55.6k/55.6k [00:02<00:00, 26.7kB/s]\n",
      "Upload successful: models.zip (56KB)\n",
      "Starting upload for file .git.zip\n",
      "100%|██████████████████████████████████████| 2.35M/2.35M [00:01<00:00, 1.62MB/s]\n",
      "Upload successful: .git.zip (2MB)\n",
      "Your private Dataset is being created. Please check progress at https://www.kaggle.com/datasets/rafiko1/ASLFRcode\n"
     ]
    }
   ],
   "source": [
    "!kaggle datasets create -p {DATASET_PATH} -r zip"
   ]
  },
  {
   "cell_type": "code",
   "execution_count": 34,
   "id": "d534a73d-cfdc-4ca1-9d01-2f7c99881b10",
   "metadata": {},
   "outputs": [
    {
     "name": "stdout",
     "output_type": "stream",
     "text": [
      "Starting upload for file configs.zip\n",
      "100%|████████████████████████████████████████| 1.34k/1.34k [00:01<00:00, 987B/s]\n",
      "Upload successful: configs.zip (1KB)\n",
      "Starting upload for file README.txt\n",
      "100%|█████████████████████████████████████████| 14.0/14.0 [00:01<00:00, 8.16B/s]\n",
      "Upload successful: README.txt (14B)\n",
      "Starting upload for file datasets.zip\n",
      "100%|██████████████████████████████████████| 2.04M/2.04M [00:02<00:00, 1.00MB/s]\n",
      "Upload successful: datasets.zip (2MB)\n",
      "Starting upload for file .ipynb_checkpoints.zip\n",
      "100%|█████████████████████████████████████████| 22.0/22.0 [00:01<00:00, 11.6B/s]\n",
      "Upload successful: .ipynb_checkpoints.zip (22B)\n",
      "Starting upload for file results.zip\n",
      "100%|██████████████████████████████████████| 30.2M/30.2M [00:01<00:00, 18.5MB/s]\n",
      "Upload successful: results.zip (30MB)\n",
      "Starting upload for file utils.zip\n",
      "100%|██████████████████████████████████████| 37.8k/37.8k [00:01<00:00, 28.0kB/s]\n",
      "Upload successful: utils.zip (38KB)\n",
      "Starting upload for file models.zip\n",
      "100%|██████████████████████████████████████| 55.8k/55.8k [00:00<00:00, 58.5kB/s]\n",
      "Upload successful: models.zip (56KB)\n",
      "Starting upload for file .git.zip\n",
      "100%|██████████████████████████████████████| 2.35M/2.35M [00:01<00:00, 1.64MB/s]\n",
      "Upload successful: .git.zip (2MB)\n",
      "Dataset version is being created. Please check progress at https://www.kaggle.com/rafiko1/ASLFRcode\n"
     ]
    }
   ],
   "source": [
    "!kaggle datasets version -p {DATASET_PATH} -r zip -m \"V2 added dtype to model\""
   ]
  },
  {
   "cell_type": "code",
   "execution_count": null,
   "id": "a0d53d04-bbda-4392-802a-5b77746bdb59",
   "metadata": {},
   "outputs": [],
   "source": []
  }
 ],
 "metadata": {
  "kernelspec": {
   "display_name": "Python 3 (ipykernel)",
   "language": "python",
   "name": "python3"
  },
  "language_info": {
   "codemirror_mode": {
    "name": "ipython",
    "version": 3
   },
   "file_extension": ".py",
   "mimetype": "text/x-python",
   "name": "python",
   "nbconvert_exporter": "python",
   "pygments_lexer": "ipython3",
   "version": "3.8.10"
  }
 },
 "nbformat": 4,
 "nbformat_minor": 5
}
