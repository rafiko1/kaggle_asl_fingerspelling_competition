{
 "cells": [
  {
   "cell_type": "code",
   "execution_count": 1,
   "id": "a079e217-2a44-4a08-a573-c2858d7c5690",
   "metadata": {
    "tags": []
   },
   "outputs": [
    {
     "name": "stderr",
     "output_type": "stream",
     "text": [
      "2023-07-06 06:48:59.185147: I tensorflow/compiler/xla/stream_executor/tpu/tpu_initializer_helper.cc:266] Libtpu path is: libtpu.so\n",
      "D0706 06:48:59.267326235  756403 config.cc:119]                        gRPC EXPERIMENT tcp_frame_size_tuning               OFF (default:OFF)\n",
      "D0706 06:48:59.267341792  756403 config.cc:119]                        gRPC EXPERIMENT tcp_rcv_lowat                       OFF (default:OFF)\n",
      "D0706 06:48:59.267346706  756403 config.cc:119]                        gRPC EXPERIMENT peer_state_based_framing            OFF (default:OFF)\n",
      "D0706 06:48:59.267351243  756403 config.cc:119]                        gRPC EXPERIMENT flow_control_fixes                  ON  (default:ON)\n",
      "D0706 06:48:59.267355526  756403 config.cc:119]                        gRPC EXPERIMENT memory_pressure_controller          OFF (default:OFF)\n",
      "D0706 06:48:59.267359838  756403 config.cc:119]                        gRPC EXPERIMENT unconstrained_max_quota_buffer_size OFF (default:OFF)\n",
      "D0706 06:48:59.267364048  756403 config.cc:119]                        gRPC EXPERIMENT new_hpack_huffman_decoder           ON  (default:ON)\n",
      "D0706 06:48:59.267368209  756403 config.cc:119]                        gRPC EXPERIMENT event_engine_client                 OFF (default:OFF)\n",
      "D0706 06:48:59.267372293  756403 config.cc:119]                        gRPC EXPERIMENT monitoring_experiment               ON  (default:ON)\n",
      "D0706 06:48:59.267376498  756403 config.cc:119]                        gRPC EXPERIMENT promise_based_client_call           OFF (default:OFF)\n",
      "D0706 06:48:59.267380602  756403 config.cc:119]                        gRPC EXPERIMENT free_large_allocator                OFF (default:OFF)\n",
      "D0706 06:48:59.267384801  756403 config.cc:119]                        gRPC EXPERIMENT promise_based_server_call           OFF (default:OFF)\n",
      "D0706 06:48:59.267389001  756403 config.cc:119]                        gRPC EXPERIMENT transport_supplies_client_latency   OFF (default:OFF)\n",
      "D0706 06:48:59.267393153  756403 config.cc:119]                        gRPC EXPERIMENT event_engine_listener               OFF (default:OFF)\n",
      "I0706 06:48:59.267668270  756403 ev_epoll1_linux.cc:122]               grpc epoll fd: 61\n",
      "D0706 06:48:59.267682312  756403 ev_posix.cc:144]                      Using polling engine: epoll1\n",
      "D0706 06:48:59.267704449  756403 dns_resolver_ares.cc:822]             Using ares dns resolver\n",
      "D0706 06:48:59.268042470  756403 lb_policy_registry.cc:46]             registering LB policy factory for \"priority_experimental\"\n",
      "D0706 06:48:59.268051894  756403 lb_policy_registry.cc:46]             registering LB policy factory for \"outlier_detection_experimental\"\n",
      "D0706 06:48:59.268063843  756403 lb_policy_registry.cc:46]             registering LB policy factory for \"weighted_target_experimental\"\n",
      "D0706 06:48:59.268069085  756403 lb_policy_registry.cc:46]             registering LB policy factory for \"pick_first\"\n",
      "D0706 06:48:59.268074252  756403 lb_policy_registry.cc:46]             registering LB policy factory for \"round_robin\"\n",
      "D0706 06:48:59.268079567  756403 lb_policy_registry.cc:46]             registering LB policy factory for \"weighted_round_robin_experimental\"\n",
      "D0706 06:48:59.268092205  756403 lb_policy_registry.cc:46]             registering LB policy factory for \"ring_hash_experimental\"\n",
      "D0706 06:48:59.268123442  756403 lb_policy_registry.cc:46]             registering LB policy factory for \"grpclb\"\n",
      "D0706 06:48:59.268167057  756403 lb_policy_registry.cc:46]             registering LB policy factory for \"rls_experimental\"\n",
      "D0706 06:48:59.268192917  756403 lb_policy_registry.cc:46]             registering LB policy factory for \"xds_cluster_manager_experimental\"\n",
      "D0706 06:48:59.268198558  756403 lb_policy_registry.cc:46]             registering LB policy factory for \"xds_cluster_impl_experimental\"\n",
      "D0706 06:48:59.268204117  756403 lb_policy_registry.cc:46]             registering LB policy factory for \"cds_experimental\"\n",
      "D0706 06:48:59.268210027  756403 lb_policy_registry.cc:46]             registering LB policy factory for \"xds_cluster_resolver_experimental\"\n",
      "D0706 06:48:59.268215438  756403 lb_policy_registry.cc:46]             registering LB policy factory for \"xds_override_host_experimental\"\n",
      "D0706 06:48:59.268221383  756403 lb_policy_registry.cc:46]             registering LB policy factory for \"xds_wrr_locality_experimental\"\n",
      "D0706 06:48:59.268234120  756403 certificate_provider_registry.cc:35]  registering certificate provider factory for \"file_watcher\"\n",
      "I0706 06:48:59.291238049  756403 socket_utils_common_posix.cc:337]     TCP_USER_TIMEOUT is available. TCP_USER_TIMEOUT will be used thereafter\n",
      "2023-07-06 06:48:59.345362: I tensorflow/core/platform/cpu_feature_guard.cc:182] This TensorFlow binary is optimized to use available CPU instructions in performance-critical operations.\n",
      "To enable the following instructions: SSE3 SSE4.1 SSE4.2 AVX AVX2 AVX512F FMA, in other operations, rebuild TensorFlow with the appropriate compiler flags.\n"
     ]
    }
   ],
   "source": [
    "from asl_code.models.architectures.model_1dcnn_encoder_decoder_v3 import *"
   ]
  },
  {
   "cell_type": "code",
   "execution_count": 1,
   "id": "75d27760-8e11-46f8-b4dc-014f0e644b33",
   "metadata": {
    "tags": []
   },
   "outputs": [
    {
     "name": "stderr",
     "output_type": "stream",
     "text": [
      "2023-07-05 19:09:52.716862: I tensorflow/compiler/xla/stream_executor/tpu/tpu_initializer_helper.cc:266] Libtpu path is: libtpu.so\n",
      "2023-07-05 19:09:52.771255: I tensorflow/core/platform/cpu_feature_guard.cc:182] This TensorFlow binary is optimized to use available CPU instructions in performance-critical operations.\n",
      "To enable the following instructions: SSE3 SSE4.1 SSE4.2 AVX AVX2 AVX512F FMA, in other operations, rebuild TensorFlow with the appropriate compiler flags.\n"
     ]
    }
   ],
   "source": [
    "from kaggle_asl_fingerspelling_competition.models.architectures.model_1dcnn_encoder_decoder_v2_params import *"
   ]
  },
  {
   "cell_type": "code",
   "execution_count": 4,
   "id": "74fb7c85-7f46-4a51-b22b-a788fd6f4646",
   "metadata": {
    "tags": []
   },
   "outputs": [
    {
     "ename": "Exception",
     "evalue": "File `'kaggle_asl_fingerspelling_competition/utils/configurations/set_seed_and_policy.py'` not found.",
     "output_type": "error",
     "traceback": [
      "\u001b[0;31m---------------------------------------------------------------------------\u001b[0m",
      "\u001b[0;31mOSError\u001b[0m                                   Traceback (most recent call last)",
      "File \u001b[0;32m~/.local/lib/python3.8/site-packages/IPython/core/magics/execution.py:701\u001b[0m, in \u001b[0;36mExecutionMagics.run\u001b[0;34m(self, parameter_s, runner, file_finder)\u001b[0m\n\u001b[1;32m    700\u001b[0m     fpath \u001b[38;5;241m=\u001b[39m arg_lst[\u001b[38;5;241m0\u001b[39m]\n\u001b[0;32m--> 701\u001b[0m     filename \u001b[38;5;241m=\u001b[39m \u001b[43mfile_finder\u001b[49m\u001b[43m(\u001b[49m\u001b[43mfpath\u001b[49m\u001b[43m)\u001b[49m\n\u001b[1;32m    702\u001b[0m \u001b[38;5;28;01mexcept\u001b[39;00m \u001b[38;5;167;01mIndexError\u001b[39;00m \u001b[38;5;28;01mas\u001b[39;00m e:\n",
      "File \u001b[0;32m~/.local/lib/python3.8/site-packages/IPython/utils/path.py:90\u001b[0m, in \u001b[0;36mget_py_filename\u001b[0;34m(name)\u001b[0m\n\u001b[1;32m     89\u001b[0m         \u001b[38;5;28;01mreturn\u001b[39;00m py_name\n\u001b[0;32m---> 90\u001b[0m \u001b[38;5;28;01mraise\u001b[39;00m \u001b[38;5;167;01mIOError\u001b[39;00m(\u001b[38;5;124m\"\u001b[39m\u001b[38;5;124mFile `\u001b[39m\u001b[38;5;132;01m%r\u001b[39;00m\u001b[38;5;124m` not found.\u001b[39m\u001b[38;5;124m\"\u001b[39m \u001b[38;5;241m%\u001b[39m name)\n",
      "\u001b[0;31mOSError\u001b[0m: File `'kaggle_asl_fingerspelling_competition/utils/configurations/set_seed_and_policy.py'` not found.",
      "\nThe above exception was the direct cause of the following exception:\n",
      "\u001b[0;31mException\u001b[0m                                 Traceback (most recent call last)",
      "Cell \u001b[0;32mIn[4], line 1\u001b[0m\n\u001b[0;32m----> 1\u001b[0m \u001b[43mget_ipython\u001b[49m\u001b[43m(\u001b[49m\u001b[43m)\u001b[49m\u001b[38;5;241;43m.\u001b[39;49m\u001b[43mrun_line_magic\u001b[49m\u001b[43m(\u001b[49m\u001b[38;5;124;43m'\u001b[39;49m\u001b[38;5;124;43mrun\u001b[39;49m\u001b[38;5;124;43m'\u001b[39;49m\u001b[43m,\u001b[49m\u001b[43m \u001b[49m\u001b[38;5;124;43m\"\u001b[39;49m\u001b[38;5;124;43m-i \u001b[39;49m\u001b[38;5;124;43m'\u001b[39;49m\u001b[38;5;124;43mkaggle_asl_fingerspelling_competition/utils/configurations/set_seed_and_policy.py\u001b[39;49m\u001b[38;5;124;43m'\u001b[39;49m\u001b[38;5;124;43m # set seed and policy\u001b[39;49m\u001b[38;5;124;43m\"\u001b[39;49m\u001b[43m)\u001b[49m\n",
      "File \u001b[0;32m~/.local/lib/python3.8/site-packages/IPython/core/interactiveshell.py:2417\u001b[0m, in \u001b[0;36mInteractiveShell.run_line_magic\u001b[0;34m(self, magic_name, line, _stack_depth)\u001b[0m\n\u001b[1;32m   2415\u001b[0m     kwargs[\u001b[38;5;124m'\u001b[39m\u001b[38;5;124mlocal_ns\u001b[39m\u001b[38;5;124m'\u001b[39m] \u001b[38;5;241m=\u001b[39m \u001b[38;5;28mself\u001b[39m\u001b[38;5;241m.\u001b[39mget_local_scope(stack_depth)\n\u001b[1;32m   2416\u001b[0m \u001b[38;5;28;01mwith\u001b[39;00m \u001b[38;5;28mself\u001b[39m\u001b[38;5;241m.\u001b[39mbuiltin_trap:\n\u001b[0;32m-> 2417\u001b[0m     result \u001b[38;5;241m=\u001b[39m \u001b[43mfn\u001b[49m\u001b[43m(\u001b[49m\u001b[38;5;241;43m*\u001b[39;49m\u001b[43margs\u001b[49m\u001b[43m,\u001b[49m\u001b[43m \u001b[49m\u001b[38;5;241;43m*\u001b[39;49m\u001b[38;5;241;43m*\u001b[39;49m\u001b[43mkwargs\u001b[49m\u001b[43m)\u001b[49m\n\u001b[1;32m   2419\u001b[0m \u001b[38;5;66;03m# The code below prevents the output from being displayed\u001b[39;00m\n\u001b[1;32m   2420\u001b[0m \u001b[38;5;66;03m# when using magics with decodator @output_can_be_silenced\u001b[39;00m\n\u001b[1;32m   2421\u001b[0m \u001b[38;5;66;03m# when the last Python token in the expression is a ';'.\u001b[39;00m\n\u001b[1;32m   2422\u001b[0m \u001b[38;5;28;01mif\u001b[39;00m \u001b[38;5;28mgetattr\u001b[39m(fn, magic\u001b[38;5;241m.\u001b[39mMAGIC_OUTPUT_CAN_BE_SILENCED, \u001b[38;5;28;01mFalse\u001b[39;00m):\n",
      "File \u001b[0;32m~/.local/lib/python3.8/site-packages/IPython/core/magics/execution.py:712\u001b[0m, in \u001b[0;36mExecutionMagics.run\u001b[0;34m(self, parameter_s, runner, file_finder)\u001b[0m\n\u001b[1;32m    710\u001b[0m     \u001b[38;5;28;01mif\u001b[39;00m os\u001b[38;5;241m.\u001b[39mname \u001b[38;5;241m==\u001b[39m \u001b[38;5;124m'\u001b[39m\u001b[38;5;124mnt\u001b[39m\u001b[38;5;124m'\u001b[39m \u001b[38;5;129;01mand\u001b[39;00m re\u001b[38;5;241m.\u001b[39mmatch(\u001b[38;5;124mr\u001b[39m\u001b[38;5;124m\"\u001b[39m\u001b[38;5;124m^\u001b[39m\u001b[38;5;124m'\u001b[39m\u001b[38;5;124m.*\u001b[39m\u001b[38;5;124m'\u001b[39m\u001b[38;5;124m$\u001b[39m\u001b[38;5;124m\"\u001b[39m,fpath):\n\u001b[1;32m    711\u001b[0m         warn(\u001b[38;5;124m'\u001b[39m\u001b[38;5;124mFor Windows, use double quotes to wrap a filename: \u001b[39m\u001b[38;5;132;01m%r\u001b[39;00m\u001b[38;5;124mun \u001b[39m\u001b[38;5;124m\"\u001b[39m\u001b[38;5;124mmypath\u001b[39m\u001b[38;5;130;01m\\\\\u001b[39;00m\u001b[38;5;124mmyfile.py\u001b[39m\u001b[38;5;124m\"\u001b[39m\u001b[38;5;124m'\u001b[39m)\n\u001b[0;32m--> 712\u001b[0m     \u001b[38;5;28;01mraise\u001b[39;00m \u001b[38;5;167;01mException\u001b[39;00m(msg) \u001b[38;5;28;01mfrom\u001b[39;00m \u001b[38;5;21;01me\u001b[39;00m\n\u001b[1;32m    713\u001b[0m \u001b[38;5;28;01mexcept\u001b[39;00m \u001b[38;5;167;01mTypeError\u001b[39;00m:\n\u001b[1;32m    714\u001b[0m     \u001b[38;5;28;01mif\u001b[39;00m fpath \u001b[38;5;129;01min\u001b[39;00m sys\u001b[38;5;241m.\u001b[39mmeta_path:\n",
      "\u001b[0;31mException\u001b[0m: File `'kaggle_asl_fingerspelling_competition/utils/configurations/set_seed_and_policy.py'` not found."
     ]
    }
   ],
   "source": [
    "%run -i 'kaggle_asl_fingerspelling_competition/utils/configurations/set_seed_and_policy.py' # set seed and policy"
   ]
  },
  {
   "cell_type": "code",
   "execution_count": 2,
   "id": "99ac952d-ae71-4c4d-9c14-16f5cd8636d5",
   "metadata": {
    "tags": []
   },
   "outputs": [],
   "source": [
    "import numpy as np\n",
    "import pandas as pd\n",
    "import matplotlib.pyplot as plt\n",
    "import matplotlib as mpl\n",
    "\n",
    "from collections import defaultdict, Counter\n",
    "from tqdm.auto import tqdm\n",
    "import time\n",
    "import pickle\n",
    "import math\n",
    "import random\n",
    "import sys\n",
    "import gc\n",
    "import glob\n",
    "import datetime\n",
    "import yaml\n",
    "\n",
    "import sklearn\n",
    "from Levenshtein import distance as levenshtein_distance"
   ]
  },
  {
   "cell_type": "code",
   "execution_count": 2,
   "id": "f0da8350-1e17-4345-b8a5-f7ea5325d4dc",
   "metadata": {
    "tags": []
   },
   "outputs": [
    {
     "ename": "FileNotFoundError",
     "evalue": "[Errno 2] No such file or directory: 'kaggle_asl_fingerspelling_competition/configs/config1.yaml'",
     "output_type": "error",
     "traceback": [
      "\u001b[0;31m---------------------------------------------------------------------------\u001b[0m",
      "\u001b[0;31mFileNotFoundError\u001b[0m                         Traceback (most recent call last)",
      "Cell \u001b[0;32mIn[2], line 1\u001b[0m\n\u001b[0;32m----> 1\u001b[0m \u001b[38;5;28;01mwith\u001b[39;00m \u001b[38;5;28;43mopen\u001b[39;49m\u001b[43m(\u001b[49m\u001b[38;5;124;43m\"\u001b[39;49m\u001b[38;5;124;43mkaggle_asl_fingerspelling_competition/configs/config1.yaml\u001b[39;49m\u001b[38;5;124;43m\"\u001b[39;49m\u001b[43m,\u001b[49m\u001b[43m \u001b[49m\u001b[38;5;124;43m\"\u001b[39;49m\u001b[38;5;124;43mr\u001b[39;49m\u001b[38;5;124;43m\"\u001b[39;49m\u001b[43m)\u001b[49m \u001b[38;5;28;01mas\u001b[39;00m yml:\n\u001b[1;32m      2\u001b[0m     CFG \u001b[38;5;241m=\u001b[39m yaml\u001b[38;5;241m.\u001b[39msafe_load(yml)\n",
      "File \u001b[0;32m~/.local/lib/python3.8/site-packages/IPython/core/interactiveshell.py:284\u001b[0m, in \u001b[0;36m_modified_open\u001b[0;34m(file, *args, **kwargs)\u001b[0m\n\u001b[1;32m    277\u001b[0m \u001b[38;5;28;01mif\u001b[39;00m file \u001b[38;5;129;01min\u001b[39;00m {\u001b[38;5;241m0\u001b[39m, \u001b[38;5;241m1\u001b[39m, \u001b[38;5;241m2\u001b[39m}:\n\u001b[1;32m    278\u001b[0m     \u001b[38;5;28;01mraise\u001b[39;00m \u001b[38;5;167;01mValueError\u001b[39;00m(\n\u001b[1;32m    279\u001b[0m         \u001b[38;5;124mf\u001b[39m\u001b[38;5;124m\"\u001b[39m\u001b[38;5;124mIPython won\u001b[39m\u001b[38;5;124m'\u001b[39m\u001b[38;5;124mt let you open fd=\u001b[39m\u001b[38;5;132;01m{\u001b[39;00mfile\u001b[38;5;132;01m}\u001b[39;00m\u001b[38;5;124m by default \u001b[39m\u001b[38;5;124m\"\u001b[39m\n\u001b[1;32m    280\u001b[0m         \u001b[38;5;124m\"\u001b[39m\u001b[38;5;124mas it is likely to crash IPython. If you know what you are doing, \u001b[39m\u001b[38;5;124m\"\u001b[39m\n\u001b[1;32m    281\u001b[0m         \u001b[38;5;124m\"\u001b[39m\u001b[38;5;124myou can use builtins\u001b[39m\u001b[38;5;124m'\u001b[39m\u001b[38;5;124m open.\u001b[39m\u001b[38;5;124m\"\u001b[39m\n\u001b[1;32m    282\u001b[0m     )\n\u001b[0;32m--> 284\u001b[0m \u001b[38;5;28;01mreturn\u001b[39;00m \u001b[43mio_open\u001b[49m\u001b[43m(\u001b[49m\u001b[43mfile\u001b[49m\u001b[43m,\u001b[49m\u001b[43m \u001b[49m\u001b[38;5;241;43m*\u001b[39;49m\u001b[43margs\u001b[49m\u001b[43m,\u001b[49m\u001b[43m \u001b[49m\u001b[38;5;241;43m*\u001b[39;49m\u001b[38;5;241;43m*\u001b[39;49m\u001b[43mkwargs\u001b[49m\u001b[43m)\u001b[49m\n",
      "\u001b[0;31mFileNotFoundError\u001b[0m: [Errno 2] No such file or directory: 'kaggle_asl_fingerspelling_competition/configs/config1.yaml'"
     ]
    }
   ],
   "source": [
    "with open(\"kaggle_asl_fingerspelling_competition/configs/config1.yaml\", \"r\") as yml:\n",
    "    CFG = yaml.safe_load(yml)"
   ]
  },
  {
   "cell_type": "code",
   "execution_count": 3,
   "id": "16e6c17e-e533-4623-bd9a-bd57c57d2183",
   "metadata": {
    "tags": []
   },
   "outputs": [],
   "source": [
    "with open(\"asl_code/configs/config2.yaml\", \"r\") as yml:\n",
    "    CFG = yaml.safe_load(yml)"
   ]
  },
  {
   "cell_type": "code",
   "execution_count": 4,
   "id": "1d37820a-9467-4462-aa70-6d77426d5eb8",
   "metadata": {
    "tags": []
   },
   "outputs": [
    {
     "data": {
      "text/plain": [
       "{'seed': 18,\n",
       " 'verbose': 2,\n",
       " 'rows_per_frame': 543,\n",
       " 'max_len_frames': 384,\n",
       " 'max_len_phrase': 32,\n",
       " 'pad_frames': -100.0,\n",
       " 'pad_phrase': 61,\n",
       " 'num_classes': 62,\n",
       " 'n_splits': 10,\n",
       " 'fold': 0,\n",
       " 'train': {'batch_size': 512,\n",
       "  'drop_remainder': True,\n",
       "  'augment': True,\n",
       "  'shuffle': True,\n",
       "  'repeat': False},\n",
       " 'val': {'batch_size': 512,\n",
       "  'drop_remainder': True,\n",
       "  'augment': False,\n",
       "  'shuffle': False,\n",
       "  'repeat': False},\n",
       " 'n_epochs': 300,\n",
       " 'dim': 256,\n",
       " 'drop_rate': 0.15,\n",
       " 'ksize': 34,\n",
       " 'bn_momentum': 0.95,\n",
       " 'expand': 2,\n",
       " 'activation': 'gelu',\n",
       " 'num_heads': 4,\n",
       " 'len_transformer_base_block': 1,\n",
       " 'len_transformer_cross_block': 1,\n",
       " 'len_conv1d_blocks_encoder': 3,\n",
       " 'n_encoder_blocks': 2,\n",
       " 'loss': {'name': 'SCCE_loss_with_smoothing', 'label_smoothing': 0.2},\n",
       " 'scheduler': {'name': 'cosine_cycle',\n",
       "  'warmup': 0,\n",
       "  'lr_min': '1e-6',\n",
       "  'lr_max': '1e-3',\n",
       "  'wd_ratio': 0.1,\n",
       "  'num_cycles': 0.5},\n",
       " 'optimizer': {'name': 'adam'},\n",
       " 'callbacks': ['logger_cb', 'ckpt_cb', 'lr_cb', 'wd_cb'],\n",
       " 'output_dir': '/home/rafiz/asl_code/results/',\n",
       " 'experiment': 'config2'}"
      ]
     },
     "execution_count": 4,
     "metadata": {},
     "output_type": "execute_result"
    }
   ],
   "source": [
    "CFG"
   ]
  },
  {
   "cell_type": "code",
   "execution_count": 5,
   "id": "2ed1050c-6c75-4389-a580-e092b09a16a5",
   "metadata": {
    "tags": []
   },
   "outputs": [
    {
     "name": "stderr",
     "output_type": "stream",
     "text": [
      "2023-07-06 06:49:29.737942: I tensorflow/compiler/xla/service/service.cc:169] XLA service 0x872ad80 initialized for platform TPU (this does not guarantee that XLA will be used). Devices:\n",
      "2023-07-06 06:49:29.737990: I tensorflow/compiler/xla/service/service.cc:177]   StreamExecutor device (0): TPU, 2a886c8\n",
      "2023-07-06 06:49:29.738002: I tensorflow/compiler/xla/service/service.cc:177]   StreamExecutor device (1): TPU, 2a886c8\n",
      "2023-07-06 06:49:29.738015: I tensorflow/compiler/xla/service/service.cc:177]   StreamExecutor device (2): TPU, 2a886c8\n",
      "2023-07-06 06:49:29.738026: I tensorflow/compiler/xla/service/service.cc:177]   StreamExecutor device (3): TPU, 2a886c8\n",
      "2023-07-06 06:49:29.738037: I tensorflow/compiler/xla/service/service.cc:177]   StreamExecutor device (4): TPU, 2a886c8\n",
      "2023-07-06 06:49:29.738047: I tensorflow/compiler/xla/service/service.cc:177]   StreamExecutor device (5): TPU, 2a886c8\n",
      "2023-07-06 06:49:29.738058: I tensorflow/compiler/xla/service/service.cc:177]   StreamExecutor device (6): TPU, 2a886c8\n",
      "2023-07-06 06:49:29.738068: I tensorflow/compiler/xla/service/service.cc:177]   StreamExecutor device (7): TPU, 2a886c8\n"
     ]
    }
   ],
   "source": [
    "model = get_model(CFG, dtype=tf.float32)"
   ]
  },
  {
   "cell_type": "code",
   "execution_count": 6,
   "id": "f546b030-0553-4eb9-b423-ae7d100c6ea8",
   "metadata": {
    "tags": []
   },
   "outputs": [
    {
     "name": "stdout",
     "output_type": "stream",
     "text": [
      "Model: \"model\"\n",
      "__________________________________________________________________________________________________\n",
      " Layer (type)                   Output Shape         Param #     Connected to                     \n",
      "==================================================================================================\n",
      " frames (InputLayer)            [(None, 384, 708)]   0           []                               \n",
      "                                                                                                  \n",
      " encoder (Encoder)              (None, 384, 256)     2931404     ['frames[0][0]']                 \n",
      "                                                                                                  \n",
      " phrase (InputLayer)            [(None, 32)]         0           []                               \n",
      "                                                                                                  \n",
      " decoder (Decoder)              (None, 32, 256)      807424      ['encoder[0][0]',                \n",
      "                                                                  'phrase[0][0]']                 \n",
      "                                                                                                  \n",
      " pre_classifier (Dense)         (None, 32, 512)      131584      ['decoder[0][0]']                \n",
      "                                                                                                  \n",
      " classifier (Dense)             (None, 32, 62)       31806       ['pre_classifier[0][0]']         \n",
      "                                                                                                  \n",
      "==================================================================================================\n",
      "Total params: 3,902,218\n",
      "Trainable params: 3,891,978\n",
      "Non-trainable params: 10,240\n",
      "__________________________________________________________________________________________________\n"
     ]
    }
   ],
   "source": [
    "model.summary()"
   ]
  },
  {
   "cell_type": "code",
   "execution_count": null,
   "id": "8aa78c98-97b8-4712-8838-06c511f05369",
   "metadata": {},
   "outputs": [],
   "source": []
  },
  {
   "cell_type": "code",
   "execution_count": null,
   "id": "fd462700-6b72-41c5-98b1-07a2b108b130",
   "metadata": {},
   "outputs": [],
   "source": []
  },
  {
   "cell_type": "code",
   "execution_count": 7,
   "id": "40eece35-c5c7-4de1-81dd-5b7467b6cb60",
   "metadata": {
    "tags": []
   },
   "outputs": [],
   "source": [
    "model = get_model(CFG, dtype=tf.bfloat16)"
   ]
  },
  {
   "cell_type": "code",
   "execution_count": null,
   "id": "087b87be-d6bc-4bda-8373-1a257a8c97e7",
   "metadata": {},
   "outputs": [],
   "source": [
    "mo"
   ]
  },
  {
   "cell_type": "code",
   "execution_count": 8,
   "id": "439c3964-50c3-4eb0-9c2d-69af07577b8f",
   "metadata": {
    "tags": []
   },
   "outputs": [],
   "source": [
    "model.load_weights('kaggle_asl_fingerspelling_competition/results/config1-fold0-best.h5')"
   ]
  },
  {
   "cell_type": "code",
   "execution_count": null,
   "id": "62498934-b348-4d68-b89f-5ced6de7b7b6",
   "metadata": {},
   "outputs": [],
   "source": [
    "'/home/rafiz/kaggle_asl_fingerspelling_competition/results/'"
   ]
  }
 ],
 "metadata": {
  "kernelspec": {
   "display_name": "Python 3 (ipykernel)",
   "language": "python",
   "name": "python3"
  },
  "language_info": {
   "codemirror_mode": {
    "name": "ipython",
    "version": 3
   },
   "file_extension": ".py",
   "mimetype": "text/x-python",
   "name": "python",
   "nbconvert_exporter": "python",
   "pygments_lexer": "ipython3",
   "version": "3.8.10"
  }
 },
 "nbformat": 4,
 "nbformat_minor": 5
}
